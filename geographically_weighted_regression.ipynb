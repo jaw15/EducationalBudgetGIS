{
 "cells": [
  {
   "cell_type": "code",
   "execution_count": null,
   "metadata": {
    "collapsed": true
   },
   "outputs": [],
   "source": [
    "# imports\n",
    "import arcpy\n",
    "import pandas as pd\n",
    "import numpy as np"
   ]
  },
  {
   "cell_type": "code",
   "execution_count": null,
   "outputs": [],
   "source": [
    "# store data locations\n",
    "counties = \"C:\\\\Users\\\\2020c\\\\Documents\\\\GIS\\\\PublicSchoolProject\\\\PublicSchoolProject\\\\PublicSchoolProject.gdb\\\\counties\"\n",
    "edu_outcomes = \"C:\\\\Users\\\\2020c\\\\Documents\\\\GIS\\\\PublicSchoolProject\\\\PublicSchoolProject\\\\PublicSchoolProject.gdb\\\\Edu_Outcomes\"\n",
    "budget = \"C:\\\\Users\\\\2020c\\\\Documents\\\\GIS\\\\PublicSchoolProject\\\\PublicSchoolProject\\\\elsec20.csv\"\n",
    "grouped_outcomes = \"C:\\\\Users\\\\2020c\\\\Documents\\\\GIS\\\\PSProject\\\\PSProject\\\\grouped_outcomes.csv\""
   ],
   "metadata": {
    "collapsed": false
   }
  },
  {
   "cell_type": "code",
   "execution_count": null,
   "outputs": [],
   "source": [
    "# clean edu_outcomes\n",
    "\n",
    "# add geo_type field identifier\n",
    "arcpy.management.AddField(edu_outcomes, \"geo_type\", \"TEXT\")\n",
    "geo_type_cb = '\"state\" if !FIPS!.endswith(\"000\") else \"county\"'\n",
    "arcpy.management.CalculateField(edu_outcomes, \"geo_type\", geo_type_cb, \"PYTHON3\")\n",
    "\n",
    "# replace null vals with -1\n",
    "nulls = {'F2013_Urban_Influence_Code', 'F2013_Rural_urban_Continuum_Cod', 'F2003_Urban_Influence_Code', 'F2003_Rural_urban_Continuum_Cod'}\n",
    "for f in nulls:\n",
    "    null_cb = '-1 if not !' + f + '! else !' + f + '!'\n",
    "    arcpy.management.CalculateField(edu_outcomes, f, null_cb, \"PYTHON3\")"
   ],
   "metadata": {
    "collapsed": false
   }
  },
  {
   "cell_type": "code",
   "execution_count": null,
   "outputs": [],
   "source": [
    "# join educational outcome data to county base layer\n",
    "in_field = 'GEOID'\n",
    "join_field='FIPS'\n",
    "arcpy.management.AddJoin(counties, in_field, edu_outcomes, join_field)"
   ],
   "metadata": {
    "collapsed": false
   }
  },
  {
   "cell_type": "code",
   "execution_count": null,
   "outputs": [],
   "source": [
    "# read in and clean data\n",
    "df = pd.read_csv(budget)\n",
    "df.info()\n",
    "\n",
    "x = df.isna().sum().sum()\n",
    "print(x) # x = 0 -> no missing values\n",
    "\n",
    "df"
   ],
   "metadata": {
    "collapsed": false
   }
  },
  {
   "cell_type": "code",
   "execution_count": null,
   "outputs": [],
   "source": [
    "# eliminate unnecessary columns that conflict with grouping\n",
    "ind = [0, 1, 2, 4, 5, 6, 7, 8]\n",
    "for i in ind:\n",
    "    print(df.columns[i])\n",
    "\n",
    "# rem = {\"STATE\", \"IDCENSUS\", \"NAME\", \"CSA\", \"CBSA\", \"SCHLEV\", \"NCESID\", \"YRDATA\"}\n",
    "df = df.drop(df.columns[ind],axis = 1)\n",
    "\n",
    "df"
   ],
   "metadata": {
    "collapsed": false
   }
  },
  {
   "cell_type": "code",
   "execution_count": null,
   "outputs": [],
   "source": [
    "# aggregation\n",
    "cols = list(df.columns.values)\n",
    "print(cols)\n",
    "aggre = {}\n",
    "\n",
    "for col in cols[1:]:\n",
    "    aggre[col] = 'sum'\n",
    "\n",
    "# print(aggre)\n",
    "\n",
    "grouped = df.groupby(\"'CONUM'\").agg(aggre)\n",
    "print(grouped)\n",
    "\n",
    "grouped"
   ],
   "metadata": {
    "collapsed": false
   }
  },
  {
   "cell_type": "code",
   "execution_count": null,
   "outputs": [],
   "source": [
    "grouped.to_csv(grouped_outcomes)\n",
    "arcpy.management.AddJoin(counties, 'GEOID_WRA', grouped_outcomes, \"'CONUM'\")"
   ],
   "metadata": {
    "collapsed": false
   }
  },
  {
   "cell_type": "code",
   "execution_count": null,
   "outputs": [],
   "source": [
    "in_features = counties_upd_layer = \"C:\\\\Users\\\\2020c\\\\Documents\\\\GIS\\\\PSProject\\\\PSProject\\\\PSProject.gdb\\\\counties_upd_export\"\n",
    "dependent_field = \"Percent_of_adults_with_a_bachel\"\n",
    "sel_fields = [2]\n",
    "explanatory_field = [cols[i] for i in sel_fields]\n",
    "out_featureclass = \"C:\\\\Users\\\\2020c\\\\Documents\\\\GIS\\\\PSProject\\\\PSProject\\\\geo_weights\"\n",
    "kernel_type = \"ADAPTIVE\"\n",
    "bandwidth_method = \"AICc\"\n",
    "\n",
    "\n",
    "arcpy.stats.GeographicallyWeightedRegression(in_features, dependent_field, explanatory_field, out_featureclass, kernel_type, bandwidth_method)"
   ],
   "metadata": {
    "collapsed": false
   }
  }
 ],
 "metadata": {
  "kernelspec": {
   "display_name": "Python 3",
   "language": "python",
   "name": "python3"
  },
  "language_info": {
   "codemirror_mode": {
    "name": "ipython",
    "version": 2
   },
   "file_extension": ".py",
   "mimetype": "text/x-python",
   "name": "python",
   "nbconvert_exporter": "python",
   "pygments_lexer": "ipython2",
   "version": "2.7.6"
  }
 },
 "nbformat": 4,
 "nbformat_minor": 0
}
